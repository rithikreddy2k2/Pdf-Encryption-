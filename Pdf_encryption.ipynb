{
 "cells": [
  {
   "cell_type": "code",
   "execution_count": 6,
   "metadata": {},
   "outputs": [],
   "source": [
    "import PyPDF2"
   ]
  },
  {
   "cell_type": "code",
   "execution_count": 24,
   "metadata": {},
   "outputs": [],
   "source": [
    "pdf=PyPDF2.PdfFileReader('Demo.pdf') # Reads the pdf file i.e.,Demo.pdf\n",
    "out_pdf=PyPDF2.PdfFileWriter() #creates an object of File writer"
   ]
  },
  {
   "cell_type": "code",
   "execution_count": 25,
   "metadata": {},
   "outputs": [],
   "source": [
    "for i in range(pdf.numPages):         \n",
    "    page=pdf.getPage(i)     # Gets the page from pdf file\n",
    "    out_pdf.addPage(page)   # Adds the above page to the Written file "
   ]
  },
  {
   "cell_type": "code",
   "execution_count": 26,
   "metadata": {},
   "outputs": [],
   "source": [
    "password='sanj123'  # password used for encrypted pdf\n",
    "out_pdf.encrypt(password)  # encrypts the out_pdf using the password"
   ]
  },
  {
   "cell_type": "code",
   "execution_count": 27,
   "metadata": {},
   "outputs": [],
   "source": [
    "with open(\"Demo_Encrypted.pdf\",'wb') as filename:      # This creates the Encrypted pdf file as we desired i.e.,Demo_Encrypted.pdf\n",
    "    out_pdf.write(filename)"
   ]
  }
 ],
 "metadata": {
  "kernelspec": {
   "display_name": "Python 3",
   "language": "python",
   "name": "python3"
  },
  "language_info": {
   "codemirror_mode": {
    "name": "ipython",
    "version": 3
   },
   "file_extension": ".py",
   "mimetype": "text/x-python",
   "name": "python",
   "nbconvert_exporter": "python",
   "pygments_lexer": "ipython3",
   "version": "3.8.5"
  }
 },
 "nbformat": 4,
 "nbformat_minor": 4
}
